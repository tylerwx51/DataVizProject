{
 "cells": [
  {
   "cell_type": "code",
   "execution_count": 9,
   "metadata": {
    "collapsed": true
   },
   "outputs": [],
   "source": [
    "import plotly.plotly as py\n",
    "import plotly.graph_objs as go\n",
    "import plotly.tools as tls\n",
    "\n",
    "import pandas as pd "
   ]
  },
  {
   "cell_type": "code",
   "execution_count": 10,
   "metadata": {
    "collapsed": true,
    "scrolled": true
   },
   "outputs": [],
   "source": [
    "py.plotly.tools.set_credentials_file(username='savannahvi', api_key='tncaIB087gdSYQQgDQVZ')"
   ]
  },
  {
   "cell_type": "code",
   "execution_count": 19,
   "metadata": {
    "collapsed": true
   },
   "outputs": [],
   "source": [
    "comic_data = pd.read_csv('comic_characters.csv')"
   ]
  },
  {
   "cell_type": "code",
   "execution_count": 12,
   "metadata": {
    "collapsed": true
   },
   "outputs": [],
   "source": [
    "comic_data['eyes'] = comic_data['eyes'].fillna('unknown')"
   ]
  },
  {
   "cell_type": "code",
   "execution_count": 48,
   "metadata": {
    "collapsed": true
   },
   "outputs": [],
   "source": [
    "comic_data['color'] = [1 if x == 'marvel' else 0 for x in comic_data['world']]"
   ]
  },
  {
   "cell_type": "code",
   "execution_count": 14,
   "metadata": {
    "collapsed": true
   },
   "outputs": [],
   "source": [
    "def encode_dict(col):\n",
    "    '''\n",
    "    creates a dictionary to encode the columns\n",
    "    '''\n",
    "    options = list(set(col))\n",
    "    dict_opts = {}\n",
    "    for i in range(len(options)):\n",
    "        dict_opts[options[i]] = i\n",
    "    return dict_opts\n",
    "\n",
    "\n",
    "def encode(col, dic):\n",
    "    return [x.replace(x,str(dic[x])) for x in col]"
   ]
  },
  {
   "cell_type": "code",
   "execution_count": 50,
   "metadata": {
    "collapsed": true
   },
   "outputs": [],
   "source": [
    "comic_data['align_id'] = encode(comic_data['align'], encode_dict(comic_data['align']))\n",
    "comic_data['sex_id'] = encode(comic_data['sex'], encode_dict(comic_data['sex']))\n",
    "comic_data['gsm_id'] = encode(comic_data['gsm'], encode_dict(comic_data['gsm']))\n",
    "comic_data['alive_id'] = encode(comic_data['alive'], encode_dict(comic_data['alive']))"
   ]
  },
  {
   "cell_type": "code",
   "execution_count": 61,
   "metadata": {},
   "outputs": [
    {
     "data": {
      "text/html": [
       "<iframe id=\"igraph\" scrolling=\"no\" style=\"border:none;\" seamless=\"seamless\" src=\"https://plot.ly/~savannahvi/16.embed\" height=\"525px\" width=\"100%\"></iframe>"
      ],
      "text/plain": [
       "<plotly.tools.PlotlyDisplay object>"
      ]
     },
     "execution_count": 61,
     "metadata": {},
     "output_type": "execute_result"
    }
   ],
   "source": [
    "data_comic = [\n",
    "    go.Parcoords(\n",
    "        line = dict(color = comic_data['color'],\n",
    "                   colorscale = [[0,'#0000FF'],[1,'#FF0000']]),\n",
    "        dimensions = list([\n",
    "            dict(range = [1935, 2014],\n",
    "                 constraintrange = [1935,2013],\n",
    "                label = 'Year', values = comic_data['year']),\n",
    "            dict(tickvals = [0,1,2,3],\n",
    "                ticktext = ['Good Character', 'Neutral Character', 'Bad Character', 'Unknown'],\n",
    "                label = 'Align', values = comic_data['align_id']),\n",
    "            dict(tickvals = [0,1,2,3,4,5],\n",
    "                 ticktext = ['Agender Chractres', 'Transgender Characters', 'Unknown', 'Male Character', 'Female Character', 'Genderfluid'],\n",
    "                label = 'Sex', values = comic_data['sex_id']),\n",
    "            dict(tickvals = [0,1,2,3,4,5,6],\n",
    "                 ticktext = ['Transgender', 'Pansexual', 'Transvestite', 'Homosexual', 'Heterosexual', 'Bisexual', 'Genderfluid'],\n",
    "                label = 'Gsm', values = comic_data['gsm_id']),\n",
    "            dict(tickvals = [0, 1, 2],\n",
    "                 ticktext = ['Living', 'Deceased', 'Unknown'],\n",
    "                label = 'Alive', values = comic_data['alive_id']),\n",
    "            dict(tickvals = [0, 1],\n",
    "                 ticktext = ['DC', 'Marvel'],\n",
    "                label = 'World', values = comic_data['color'])\n",
    "        ])\n",
    "    )\n",
    "]\n",
    "\n",
    "\n",
    "\n",
    "fig = go.Figure(data = data_comic)\n",
    "py.iplot(fig, filename = 'parcoords-basic')"
   ]
  },
  {
   "cell_type": "markdown",
   "metadata": {},
   "source": [
    "# Bar Charts for counts each year"
   ]
  },
  {
   "cell_type": "code",
   "execution_count": 22,
   "metadata": {},
   "outputs": [],
   "source": [
    "comic_data['count'] = 1\n",
    "df_align = comic_data[['align', 'year', 'count']].groupby(['align', 'year']).count().reset_index()\n",
    "df_align.columns = ['align', 'year', 'align_count']\n",
    "\n",
    "df_sex = comic_data[['sex', 'year', 'count']].groupby(['sex', 'year']).count().reset_index()\n",
    "df_sex.columns = ['sex', 'year', 'sex_count']\n",
    "\n",
    "df_gsm = comic_data[['gsm', 'year', 'count']].groupby(['gsm', 'year']).count().reset_index()\n",
    "df_gsm.columns = ['gsm', 'year', 'gsm_count']\n",
    "\n",
    "df_alive = comic_data[['alive', 'year', 'count']].groupby(['alive', 'year']).count().reset_index()\n",
    "df_alive.columns = ['alive', 'year', 'alive_count']"
   ]
  },
  {
   "cell_type": "code",
   "execution_count": 45,
   "metadata": {},
   "outputs": [
    {
     "name": "stdout",
     "output_type": "stream",
     "text": [
      "This is the format of your plot grid:\n",
      "[ (1,1) x1,y1 ]\n",
      "[ (2,1) x1,y2 ]\n",
      "[ (3,1) x1,y3 ]\n",
      "[ (4,1) x1,y4 ]\n",
      "\n"
     ]
    },
    {
     "data": {
      "text/html": [
       "<iframe id=\"igraph\" scrolling=\"no\" style=\"border:none;\" seamless=\"seamless\" src=\"https://plot.ly/~savannahvi/46.embed\" height=\"525px\" width=\"100%\"></iframe>"
      ],
      "text/plain": [
       "<plotly.tools.PlotlyDisplay object>"
      ]
     },
     "execution_count": 45,
     "metadata": {},
     "output_type": "execute_result"
    }
   ],
   "source": [
    "\n",
    "\n",
    "fig = tls.make_subplots(rows=4, cols=1, shared_xaxes=True, subplot_titles=('Alignment', 'Sex',\n",
    "                                                          'GSM', 'Alive'))\n",
    "\n",
    "for alignment in list(set(df_align['align'])):\n",
    "    fig.append_trace({'x': df_align['year'], 'y': df_align[df_align['align'] == alignment]['align_count'], 'type': 'bar', 'name': 'align-{}'.format(alignment)}, 1, 1)\n",
    "    \n",
    "for sex in list(set(df_sex['sex'])):\n",
    "    fig.append_trace({'x': df_sex['year'], 'y': df_sex[df_sex['sex'] == sex]['sex_count'], 'type': 'bar', 'name': 'sex-{}'.format(sex)}, 2, 1)\n",
    "\n",
    "for gsm in list(set(df_gsm['gsm'])):\n",
    "    fig.append_trace({'x': df_gsm['year'], 'y': df_gsm[df_gsm['gsm'] == gsm]['gsm_count'], 'type': 'bar', 'name': 'gsm-{}'.format(gsm)}, 3, 1)\n",
    "\n",
    "for alive in list(set(df_alive['alive'])):\n",
    "    fig.append_trace({'x': df_alive['year'], 'y': df_alive[df_alive['alive'] == alive]['alive_count'], 'type': 'bar', 'name': 'alive-{}'.format(alive)}, 4, 1)\n",
    "\n",
    "    \n",
    "py.iplot(fig)"
   ]
  },
  {
   "cell_type": "markdown",
   "metadata": {},
   "source": [
    "# trying to get a filter..."
   ]
  },
  {
   "cell_type": "code",
   "execution_count": 129,
   "metadata": {
    "collapsed": true
   },
   "outputs": [],
   "source": [
    "eye_color = {'Blue Eyes':'blue', 'Brown Eyes':'brown', 'Black Eyes':'black','Green Eyes':'green',\n",
    "'Red Eyes':'red', 'White Eyes':'ivory', 'Yellow Eyes':'yellow','Grey Eyes':'grey',\n",
    "'Hazel Eyes':'sienna', 'Variable Eyes':'beige', 'Photocellular Eyes':'lime', 'Purple Eyes':'purple',\n",
    "'Orange Eyes':'orange', 'Pink Eyes':'pink', 'Gold Eyes':'gold','Violet Eyes':'violet', 'One Eye':'cyan',\n",
    "'Amber Eyes':'godenrod', 'Silver Eyes':'silver', 'No Eyes':'darkblue', 'Multiple Eyes': 'indigo',\n",
    "'Magenta Eyes':'magenta', 'Compound Eyes': 'beige', 'unknown':'white'}"
   ]
  },
  {
   "cell_type": "code",
   "execution_count": 137,
   "metadata": {
    "collapsed": true
   },
   "outputs": [],
   "source": [
    "opt = []\n",
    "opts = []\n",
    "for eye in list(set(comic_data['eyes'])):\n",
    "    opt = dict(\n",
    "        target = [eye], value = dict(marker = dict(color = eye_color[eye]))\n",
    "    )\n",
    "    opts.append(opt)"
   ]
  },
  {
   "cell_type": "code",
   "execution_count": 140,
   "metadata": {},
   "outputs": [
    {
     "ename": "SyntaxError",
     "evalue": "invalid syntax (<ipython-input-140-0b50b3a850da>, line 23)",
     "output_type": "error",
     "traceback": [
      "\u001b[0;36m  File \u001b[0;32m\"<ipython-input-140-0b50b3a850da>\"\u001b[0;36m, line \u001b[0;32m23\u001b[0m\n\u001b[0;31m    transforms = [\u001b[0m\n\u001b[0m               ^\u001b[0m\n\u001b[0;31mSyntaxError\u001b[0m\u001b[0;31m:\u001b[0m invalid syntax\n"
     ]
    }
   ],
   "source": [
    "data_comic = [\n",
    "    go.Parcoords(\n",
    "        line = dict(color = comic_data['color'],\n",
    "                   colorscale = [[0,'#0000FF'],[1,'#FF0000']]),\n",
    "        dimensions = list([\n",
    "            dict(range = [1935, 2014],\n",
    "                 constraintrange = [1935,2013],\n",
    "                label = 'Year', values = comic_data['year']),\n",
    "            dict(tickvals = [0,1,2,3],\n",
    "                ticktext = ['Good Character', 'Neutral Character', 'Bad Character', 'Unknown'],\n",
    "                label = 'Align', values = comic_data['align_id']),\n",
    "            dict(tickvals = [0,1,2,3,4,5],\n",
    "                 ticktext = ['Agender Chractres', 'Transgender Characters', 'Unknown', 'Male Character', 'Female Character', 'Genderfluid'],\n",
    "                label = 'Sex', values = comic_data['sex_id']),\n",
    "            dict(tickvals = [0,1,2,3,4,5,6],\n",
    "                 ticktext = ['Transgender', 'Pansexual', 'Transvestite', 'Homosexual', 'Heterosexual', 'Bisexual', 'Genderfluid'],\n",
    "                label = 'Gsm', values = comic_data['gsm_id']),\n",
    "            dict(tickvals = [0, 1, 2],\n",
    "                 ticktext = ['Living', 'Deceased', 'Unknown'],\n",
    "                label = 'Alive', values = comic_data['alive_id'])\n",
    "        ])\n",
    "    ),\n",
    "    transforms = [\n",
    "      dict(\n",
    "        type = 'groupby',\n",
    "        groups = comic_data['eyes'],\n",
    "        styles = opts\n",
    "      )] \n",
    "]"
   ]
  },
  {
   "cell_type": "code",
   "execution_count": null,
   "metadata": {
    "collapsed": true
   },
   "outputs": [],
   "source": []
  }
 ],
 "metadata": {
  "kernelspec": {
   "display_name": "Python 3",
   "language": "python",
   "name": "python3"
  },
  "language_info": {
   "codemirror_mode": {
    "name": "ipython",
    "version": 3
   },
   "file_extension": ".py",
   "mimetype": "text/x-python",
   "name": "python",
   "nbconvert_exporter": "python",
   "pygments_lexer": "ipython3",
   "version": "3.6.2"
  }
 },
 "nbformat": 4,
 "nbformat_minor": 2
}
